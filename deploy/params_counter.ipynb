{
 "cells": [
  {
   "cell_type": "code",
   "execution_count": 1,
   "metadata": {},
   "outputs": [
    {
     "name": "stdout",
     "output_type": "stream",
     "text": [
      "Collecting onnx_opcounter\n",
      "  Downloading onnx_opcounter-0.0.3.tar.gz (7.5 kB)\n",
      "  Preparing metadata (setup.py): started\n",
      "  Preparing metadata (setup.py): finished with status 'done'\n",
      "Requirement already satisfied: numpy in c:\\users\\sayyidan\\appdata\\local\\programs\\python\\python39\\lib\\site-packages (from onnx_opcounter) (1.23.0)\n",
      "Requirement already satisfied: onnx in c:\\users\\sayyidan\\appdata\\local\\programs\\python\\python39\\lib\\site-packages (from onnx_opcounter) (1.12.0)\n",
      "Requirement already satisfied: onnxruntime in c:\\users\\sayyidan\\appdata\\local\\programs\\python\\python39\\lib\\site-packages (from onnx_opcounter) (1.11.1)\n",
      "Requirement already satisfied: protobuf<=3.20.1,>=3.12.2 in c:\\users\\sayyidan\\appdata\\local\\programs\\python\\python39\\lib\\site-packages (from onnx->onnx_opcounter) (3.20.1)\n",
      "Requirement already satisfied: typing-extensions>=3.6.2.1 in c:\\users\\sayyidan\\appdata\\roaming\\python\\python39\\site-packages (from onnx->onnx_opcounter) (4.8.0)\n",
      "Requirement already satisfied: flatbuffers in c:\\users\\sayyidan\\appdata\\local\\programs\\python\\python39\\lib\\site-packages (from onnxruntime->onnx_opcounter) (23.5.26)\n",
      "Building wheels for collected packages: onnx_opcounter\n",
      "  Building wheel for onnx_opcounter (setup.py): started\n",
      "  Building wheel for onnx_opcounter (setup.py): finished with status 'done'\n",
      "  Created wheel for onnx_opcounter: filename=onnx_opcounter-0.0.3-py3-none-any.whl size=7856 sha256=c4c5bacabe6a06169ac923d419264fda2305b7e3224d369d85f0ed42dacca93c\n",
      "  Stored in directory: c:\\users\\sayyidan\\appdata\\local\\pip\\cache\\wheels\\d1\\03\\03\\0a14048692c66a8c72cc1d5a31aeefc7dcf5ec5797f1ee49a6\n",
      "Successfully built onnx_opcounter\n",
      "Installing collected packages: onnx_opcounter\n",
      "Successfully installed onnx_opcounter-0.0.3\n"
     ]
    }
   ],
   "source": [
    "!pip install onnx_opcounter"
   ]
  },
  {
   "cell_type": "code",
   "execution_count": 4,
   "metadata": {},
   "outputs": [
    {
     "name": "stdout",
     "output_type": "stream",
     "text": [
      "Number of parameters in the model: 233250.0\n"
     ]
    }
   ],
   "source": [
    "!onnx_opcounter {\"FastestDet\\weight\\epoch230-opt.onnx\"}"
   ]
  },
  {
   "cell_type": "code",
   "execution_count": 6,
   "metadata": {},
   "outputs": [
    {
     "name": "stdout",
     "output_type": "stream",
     "text": [
      "Number of parameters in the model: 233250.0\n"
     ]
    }
   ],
   "source": [
    "!onnx_opcounter {\"FastestDet\\weight\\FastestDet_160_AP2.6.onnx\"}"
   ]
  },
  {
   "cell_type": "code",
   "execution_count": 7,
   "metadata": {},
   "outputs": [
    {
     "name": "stdout",
     "output_type": "stream",
     "text": [
      "Number of parameters in the model: 3014660.0\n"
     ]
    }
   ],
   "source": [
    "!onnx_opcounter {\"Yolov8\\weights\\yolov8_352.onnx\"}"
   ]
  },
  {
   "cell_type": "code",
   "execution_count": 8,
   "metadata": {},
   "outputs": [
    {
     "name": "stdout",
     "output_type": "stream",
     "text": [
      "Number of parameters in the model: 3008612.0\n"
     ]
    }
   ],
   "source": [
    "!onnx_opcounter {\"Yolov8\\weights\\yolov8_160.onnx\"}"
   ]
  },
  {
   "cell_type": "code",
   "execution_count": 9,
   "metadata": {},
   "outputs": [
    {
     "name": "stdout",
     "output_type": "stream",
     "text": [
      "Mean FPS: 11.05\n",
      "Standard deviation: 2.06\n"
     ]
    }
   ],
   "source": [
    "import statistics\n",
    "\n",
    "# Sample data\n",
    "data = [\n",
    "    10.81851033152178,\n",
    "    13.552002119568202,\n",
    "    14.013103339981893,\n",
    "    14.207913715367756,\n",
    "    9.462465341776893,\n",
    "    10.796343820866785,\n",
    "    9.286295625528599,\n",
    "    9.586126036764723,\n",
    "    9.366550840114694,\n",
    "    9.4265037712272,\n",
    "]\n",
    "\n",
    "# Calculate the mean and standard deviation\n",
    "mean = statistics.mean(data)\n",
    "std_dev = statistics.stdev(data)\n",
    "\n",
    "# Print the results\n",
    "print(f\"Mean FPS: {mean:.2f}\")\n",
    "print(f\"Standard deviation: {std_dev:.2f}\")"
   ]
  },
  {
   "cell_type": "code",
   "execution_count": null,
   "metadata": {},
   "outputs": [],
   "source": []
  }
 ],
 "metadata": {
  "kernelspec": {
   "display_name": "Python 3",
   "language": "python",
   "name": "python3"
  },
  "language_info": {
   "codemirror_mode": {
    "name": "ipython",
    "version": 3
   },
   "file_extension": ".py",
   "mimetype": "text/x-python",
   "name": "python",
   "nbconvert_exporter": "python",
   "pygments_lexer": "ipython3",
   "version": "3.9.10"
  }
 },
 "nbformat": 4,
 "nbformat_minor": 2
}
